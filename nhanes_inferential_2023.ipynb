{
  "nbformat": 4,
  "nbformat_minor": 0,
  "metadata": {
    "colab": {
      "provenance": [],
      "authorship_tag": "ABX9TyO3tlMLu4mdUQMWqQ8GJllC",
      "include_colab_link": true
    },
    "kernelspec": {
      "name": "python3",
      "display_name": "Python 3"
    },
    "language_info": {
      "name": "python"
    }
  },
  "cells": [
    {
      "cell_type": "markdown",
      "metadata": {
        "id": "view-in-github",
        "colab_type": "text"
      },
      "source": [
        "<a href=\"https://colab.research.google.com/github/m-sutt/nhanes_inferential_2023/blob/main/nhanes_inferential_2023.ipynb\" target=\"_parent\"><img src=\"https://colab.research.google.com/assets/colab-badge.svg\" alt=\"Open In Colab\"/></a>"
      ]
    },
    {
      "cell_type": "code",
      "execution_count": null,
      "metadata": {
        "id": "C5dnDyccU0Kb"
      },
      "outputs": [],
      "source": [
        "# Assignment for HA507"
      ]
    },
    {
      "cell_type": "markdown",
      "source": [
        "# Data Files to load\n",
        "\n",
        "#### demographic link: (https://wwwn.cdc.gov/Nchs/Nhanes/2021-2022/DEMO_L.XPT)\n",
        "- **Marital Status** (`DMDMARTZ`) - categorical, needs recoding (married or not married).\n",
        "- **Education Level** (`DMDEDUC2`) - categorical, needs recoding (bachelor’s or higher vs. less than bachelor’s).\n",
        "- **Age in Years** (`RIDAGEYR`) - continuous.\n",
        "\n",
        "####  bp link: (https://wwwn.cdc.gov/Nchs/Nhanes/2021-2022/BPXO_L.XPT)\n",
        "- **Systolic Blood Pressure** (`BPXOSY3`) - continuous.\n",
        "- **Diastolic Blood Pressure** (`BPXODI3`) - continuous.\n",
        "\n",
        "#### vit d link: (https://wwwn.cdc.gov/Nchs/Nhanes/2021-2022/VID_L.XPT)\n",
        "- **Vitamin D Lab Interpretation** (`LBDVD2LC`) - categorical, two levels.\n",
        "\n",
        "#### hep b link: (https://wwwn.cdc.gov/Nchs/Nhanes/2021-2022/HEPB_S_L.XPT)\n",
        "- **Hepatitis B Lab Antibodies** (`LBXHBS`) - categorical, needs recoding to two levels.\n",
        "\n",
        "#### kidney link (https://wwwn.cdc.gov/Nchs/Nhanes/2021-2022/KIQ_U_L.XPT)\n",
        "- **Weak/Failing Kidneys** (`KIQ022`) - categorical, can be treated as two levels.\n",
        "\n",
        "#### sed link (https://wwwn.cdc.gov/Nchs/Nhanes/2021-2022/PAQ_L.XPT)\n",
        "- **Minutes of Sedentary Behavior** (`PAD680`) - continuous, needs cleaning (remove values `7777`, `9999`, and null).\n",
        "\n",
        "#### self_weight link (https://wwwn.cdc.gov/Nchs/Nhanes/2021-2022/WHQ_L.XPT)\n",
        "- **Current Self-Reported Weight** (`WHD020`) - continuous, needs cleaning (remove values `7777`, `9999`, and null).\n",
        "\n"
      ],
      "metadata": {
        "id": "imBiApOwWbr7"
      }
    },
    {
      "cell_type": "code",
      "source": [
        "import pandas as pd\n",
        "\n",
        "# Load files demographics\n",
        "\n",
        "demo = pd.read_sas('https://wwwn.cdc.gov/Nchs/Nhanes/2021-2022/DEMO_L.XPT', format='xport') #marital status, ed level, age\n",
        "bp = pd.read_sas('https://wwwn.cdc.gov/Nchs/Nhanes/2021-2022/BPXO_L.XPT', format='xport')\n",
        "lab_vitd = pd.read_sas('https://wwwn.cdc.gov/Nchs/Nhanes/2021-2022/VID_L.XPT', format='xport')\n",
        "lab_hepb = pd.read_sas('https://wwwn.cdc.gov/Nchs/Nhanes/2021-2022/HEPB_S_L.XPT', format='xport')\n",
        "kidney = pd.read_sas('https://wwwn.cdc.gov/Nchs/Nhanes/2021-2022/KIQ_U_L.XPT', format='xport')\n",
        "sed = pd.read_sas('https://wwwn.cdc.gov/Nchs/Nhanes/2021-2022/PAQ_L.XPT', format='xport')\n",
        "self_weight = pd.read_sas('https://wwwn.cdc.gov/Nchs/Nhanes/2021-2022/WHQ_L.XPT', format='xport')\n"
      ],
      "metadata": {
        "id": "cmceqsB7XXlK"
      },
      "execution_count": 4,
      "outputs": []
    },
    {
      "cell_type": "code",
      "source": [
        "# Question 1: \"Is there an association between marital status (married or not married) and education level (bachelor’s degree or higher vs. less than a bachelor’s degree)?\"\n",
        "  ## Variables: `DMDMARTZ` (marital status) and `DMDEDUC2` (education level). Recode as specified.\n",
        "\n",
        "# Data cleaning\n",
        "## DMDMARTZ: 1 = marrried/living with partner 2 = divorced; 3 = never married\n",
        "## DMDEDUC2: 1 = <9th grade; 2 = 9-11th; 3 = HS or GED; 4 = Some college or AA; 5 College grad; 9 = don't know\n",
        "\n",
        "\n",
        "from scipy.stats import chi2_contingency\n",
        "\n",
        "\n",
        "demo_stat = demo[['DMDMARTZ', 'DMDEDUC2']]\n",
        "demo_stat['DMDMARTZ'] = demo_stat['DMDMARTZ'].astype(str)\n",
        "demo_stat['DMDEDUC2'] = demo_stat['DMDEDUC2'].astype(str)\n",
        "demo_stat.dtypes\n",
        "\n",
        "# Select and clean relevant columns from demo data\n",
        "demo_stat = demo[['DMDMARTZ', 'DMDEDUC2']].copy()\n",
        "\n",
        "# Recode marital status: 1 = Married, 2 and 3 = Not Married\n",
        "demo_stat['Marital_Status'] = demo_stat['DMDMARTZ'].replace({1: 'Married', 2: 'Not Married', 3: 'Not Married'})\n",
        "\n",
        "# Recode education level: 5 = College Grad, 1-4 = Not College Grad, remove 'Don't know' coded as 9\n",
        "demo_stat['Education_Level'] = demo_stat['DMDEDUC2'].replace({1: 'Not College Grad', 2: 'Not College Grad',\n",
        "                                                              3: 'Not College Grad', 4: 'Not College Grad',\n",
        "                                                              5: 'College Grad', 9: None})\n",
        "# Drop rows with missing values\n",
        "demo_stat = demo_stat.dropna(subset=['Marital_Status', 'Education_Level'])\n",
        "\n",
        "# Create a contingency table for Marital Status and Education Level\n",
        "contingency_table = pd.crosstab(demo_stat['Marital_Status'], demo_stat['Education_Level'])\n",
        "print(\"Contingency Table:\")\n",
        "print(contingency_table)\n",
        "\n",
        "# Perform Chi-Square test\n",
        "stat, p_value, dof, expected = chi2_contingency(contingency_table)\n",
        "print(f\"\\nChi-Square Test Statistic: {stat}, p-value: {p_value}\")\n",
        "print(\"Expected Frequencies:\")\n",
        "print(expected)\n",
        "\n",
        "# Interpretation\n",
        "if p_value > 0.05:\n",
        "    print(\"\\nNo significant association between marital status and education.\")\n",
        "else:\n",
        "    print(\"\\nSignificant association between marital status and education.\")"
      ],
      "metadata": {
        "colab": {
          "base_uri": "https://localhost:8080/"
        },
        "id": "ZcTq62rsgBCb",
        "outputId": "611b4b64-24a8-4c27-a553-74e94c197756"
      },
      "execution_count": 5,
      "outputs": [
        {
          "output_type": "stream",
          "name": "stdout",
          "text": [
            "Contingency Table:\n",
            "Education_Level  College Grad  Not College Grad\n",
            "Marital_Status                                 \n",
            "77.0                        2                 2\n",
            "99.0                        2                 3\n",
            "Married                  1631              2503\n",
            "Not Married               990              2648\n",
            "\n",
            "Chi-Square Test Statistic: 130.25908281829118, p-value: 4.755981297523769e-28\n",
            "Expected Frequencies:\n",
            "[[1.34944095e+00 2.65055905e+00]\n",
            " [1.68680118e+00 3.31319882e+00]\n",
            " [1.39464722e+03 2.73935278e+03]\n",
            " [1.22731654e+03 2.41068346e+03]]\n",
            "\n",
            "Significant association between marital status and education.\n"
          ]
        },
        {
          "output_type": "stream",
          "name": "stderr",
          "text": [
            "<ipython-input-5-47e262d4c0ca>:13: SettingWithCopyWarning: \n",
            "A value is trying to be set on a copy of a slice from a DataFrame.\n",
            "Try using .loc[row_indexer,col_indexer] = value instead\n",
            "\n",
            "See the caveats in the documentation: https://pandas.pydata.org/pandas-docs/stable/user_guide/indexing.html#returning-a-view-versus-a-copy\n",
            "  demo_stat['DMDMARTZ'] = demo_stat['DMDMARTZ'].astype(str)\n",
            "<ipython-input-5-47e262d4c0ca>:14: SettingWithCopyWarning: \n",
            "A value is trying to be set on a copy of a slice from a DataFrame.\n",
            "Try using .loc[row_indexer,col_indexer] = value instead\n",
            "\n",
            "See the caveats in the documentation: https://pandas.pydata.org/pandas-docs/stable/user_guide/indexing.html#returning-a-view-versus-a-copy\n",
            "  demo_stat['DMDEDUC2'] = demo_stat['DMDEDUC2'].astype(str)\n"
          ]
        }
      ]
    },
    {
      "cell_type": "code",
      "source": [
        "# Question 2: \"Is there a difference in the mean sedentary behavior time between those who are married and those who are not married?\"\n",
        "     # Variables: `DMDMARTZ` (marital status, recoded) and `PAD680` (sedentary behavior time, cleaned).\n",
        "\n",
        "# Merge demo and sed on SEQN to access DMDMARTZ (marital status) and PAD680 (sedentary behavior) in one DataFrame\n",
        "merged_data = pd.merge(demo, sed[['SEQN', 'PAD680']], on='SEQN', how='inner')\n",
        "\n",
        "# Filter relevant columns for analysis\n",
        "demo_sedentary = merged_data[['DMDMARTZ', 'PAD680']].copy()\n",
        "\n",
        "# Recode marital status: 1 = Married, 2 and 3 = Not Married\n",
        "demo_sedentary['Marital_Status'] = demo_sedentary['DMDMARTZ'].replace({1: 'Married', 2: 'Not Married', 3: 'Not Married'})\n",
        "\n",
        "# Clean PAD680: remove values 7777, 9999, and any nulls\n",
        "demo_sedentary['Sedentary_Behavior'] = demo_sedentary['PAD680'].replace([7777, 9999], None)\n",
        "demo_sedentary = demo_sedentary.dropna(subset=['Sedentary_Behavior', 'Marital_Status'])\n",
        "\n",
        "\n",
        "# Perform T-test\n",
        "from scipy.stats import ttest_ind\n",
        "\n",
        "# separating data\n",
        "married_sedentary = demo_sedentary[demo_sedentary['Marital_Status'] == 'Married']['Sedentary_Behavior']\n",
        "not_married_sedentary = demo_sedentary[demo_sedentary['Marital_Status'] == 'Not Married']['Sedentary_Behavior']\n",
        "\n",
        "\n",
        "# Perform the t-test\n",
        "stat, p_value = ttest_ind(married_sedentary, not_married_sedentary, nan_policy='omit')\n",
        "print(f\"T-Test Statistic: {stat}, p-value: {p_value}\")\n",
        "\n",
        "# Interpretation\n",
        "if p_value > 0.05:\n",
        "    print(\"No significant difference in mean sedentary behavior time between married and not married groups.\")\n",
        "else:\n",
        "    print(\"Significant difference in mean sedentary behavior time between married and not married groups.\")\n"
      ],
      "metadata": {
        "colab": {
          "base_uri": "https://localhost:8080/"
        },
        "id": "NK8VrIXMgcCl",
        "outputId": "645f8c3e-f843-4b74-81ca-4e3841d28bde"
      },
      "execution_count": 6,
      "outputs": [
        {
          "output_type": "stream",
          "name": "stdout",
          "text": [
            "T-Test Statistic: -3.8699896847970154, p-value: 0.00010973792037934772\n",
            "Significant difference in mean sedentary behavior time between married and not married groups.\n"
          ]
        }
      ]
    },
    {
      "cell_type": "code",
      "source": [
        "# Question 3: \"How do age and marital status affect systolic blood pressure?\"\n",
        "     ## Variables: `RIDAGEYR` (age), `DMDMARTZ` (marital status, recoded), and `BPXOSY3` (systolic blood pressure).\n",
        "\n",
        "import statsmodels.api as sm\n",
        "import statsmodels.formula.api as ols\n",
        "\n",
        "# Step 1: Extract columns\n",
        "demo_data = demo[['SEQN', 'DMDMARTZ', 'RIDAGEYR']]\n",
        "bp_data = bp[['SEQN', 'BPXOSY3']]\n",
        "\n",
        "# Step 2: merge df (demo and bp data)on SEQN\n",
        "merged_data = pd.merge(demo_data, bp_data, on='SEQN', how='left')\n",
        "\n",
        "# Step 3: Clean and recode data\n",
        "# Record martial status\n",
        "merged_data['Marital_Status'] = merged_data['DMDMARTZ'].replace({1: 'Married', 2: 'Not Married', 3: 'Not Married'})\n",
        "\n",
        "# Remove missing data\n",
        "merged_data = merged_data.dropna(subset=['BPXOSY3', 'Marital_Status'])\n",
        "\n",
        "# Step 4: Perform linear regression (create regression formula, fit model)\n",
        "model = ols.ols('BPXOSY3 ~ RIDAGEYR + C(Marital_Status)', data=merged_data).fit()\n",
        "\n",
        "# Step 5: Print results\n",
        "print(model.summary())\n",
        "\n",
        "### WORK IN PROGRESS ###\n",
        "# Step 6: Interpretation\n",
        "#X = bp_age_marital[['RIDAGEYR', 'Marital_Status']]\n",
        "#X = pd.get_dummies(X, drop_first=True)  # Convert categorical variable to dummy/indicator variables\n",
        "#X = sm.add_constant(X)  # Add an intercept term\n",
        "#y = bp_age_marital['BPXOSY3']\n",
        "\n",
        "#model = sm.OLS(y, X).fit()\n",
        "#coefficients = model.params\n",
        "#p_values = model.pvalues\n",
        "#r_squared = model.rsquared\n",
        "\n",
        "# Initialize interpretation list\n",
        "#interpretation = []\n",
        "\n",
        "# Age interpretation\n",
        "#if p_values['RIDAGEYR'] < 0.05:\n",
        "    #interpretation.append(f\"Age is significantly associated with systolic blood pressure (coef: {coefficients['RIDAGEYR']:.4f}, p < 0.05).\")\n",
        "#else:\n",
        "    #interpretation.append(\"Age is not significantly associated with systolic blood pressure.\")\n",
        "\n",
        "# Marital Status interpretation\n",
        "#for var in X.columns[2:]:\n",
        " #   if p_values[var] < 0.05:\n",
        "  #      interpretation.append(f\"{var.replace('C(Marital_Status)[T.', '').replace(']', '')} has a significant effect on systolic blood pressure (coef: {coefficients[var]:.4f}, p < 0.05).\")\n",
        "   # else:\n",
        "    #    interpretation.append(f\"{var.replace('C(Marital_Status)[T.', '').replace(']', '')} does not have a significant effect on systolic blood pressure.\")\n",
        "\n",
        "# R-squared interpretation\n",
        "#interpretation.append(f\"The model explains {r_squared:.2%} of the variance in systolic blood pressure.\")\n",
        "\n",
        "# Display results\n",
        "#for line in interpretation:\n",
        "   # print(line)\n",
        "\n"
      ],
      "metadata": {
        "id": "vxJIk-N4glkc",
        "colab": {
          "base_uri": "https://localhost:8080/",
          "height": 789
        },
        "outputId": "3d3fc5aa-c751-4f6c-c823-70404233b566"
      },
      "execution_count": 15,
      "outputs": [
        {
          "output_type": "stream",
          "name": "stdout",
          "text": [
            "                            OLS Regression Results                            \n",
            "==============================================================================\n",
            "Dep. Variable:                BPXOSY3   R-squared:                       0.135\n",
            "Model:                            OLS   Adj. R-squared:                  0.134\n",
            "Method:                 Least Squares   F-statistic:                     227.3\n",
            "Date:                Sat, 09 Nov 2024   Prob (F-statistic):          1.27e-181\n",
            "Time:                        20:19:39   Log-Likelihood:                -24871.\n",
            "No. Observations:                5842   AIC:                         4.975e+04\n",
            "Df Residuals:                    5837   BIC:                         4.979e+04\n",
            "Df Model:                           4                                         \n",
            "Covariance Type:            nonrobust                                         \n",
            "====================================================================================================\n",
            "                                       coef    std err          t      P>|t|      [0.025      0.975]\n",
            "----------------------------------------------------------------------------------------------------\n",
            "Intercept                           91.1412     17.099      5.330      0.000      57.621     124.662\n",
            "C(Marital_Status)[T.99.0]            1.6141     19.743      0.082      0.935     -37.090      40.318\n",
            "C(Marital_Status)[T.Married]         9.6736     17.100      0.566      0.572     -23.849      43.197\n",
            "C(Marital_Status)[T.Not Married]    11.0158     17.100      0.644      0.519     -22.507      44.539\n",
            "RIDAGEYR                             0.3953      0.013     30.121      0.000       0.370       0.421\n",
            "==============================================================================\n",
            "Omnibus:                      686.935   Durbin-Watson:                   2.007\n",
            "Prob(Omnibus):                  0.000   Jarque-Bera (JB):             1458.978\n",
            "Skew:                           0.727   Prob(JB):                         0.00\n",
            "Kurtosis:                       4.970   Cond. No.                     8.74e+03\n",
            "==============================================================================\n",
            "\n",
            "Notes:\n",
            "[1] Standard Errors assume that the covariance matrix of the errors is correctly specified.\n",
            "[2] The condition number is large, 8.74e+03. This might indicate that there are\n",
            "strong multicollinearity or other numerical problems.\n"
          ]
        },
        {
          "output_type": "error",
          "ename": "NameError",
          "evalue": "name 'bp_age_marital' is not defined",
          "traceback": [
            "\u001b[0;31m---------------------------------------------------------------------------\u001b[0m",
            "\u001b[0;31mNameError\u001b[0m                                 Traceback (most recent call last)",
            "\u001b[0;32m<ipython-input-15-b2f0be9f8cbd>\u001b[0m in \u001b[0;36m<cell line: 28>\u001b[0;34m()\u001b[0m\n\u001b[1;32m     26\u001b[0m \u001b[0;34m\u001b[0m\u001b[0m\n\u001b[1;32m     27\u001b[0m \u001b[0;31m# Step 6: Interpretation\u001b[0m\u001b[0;34m\u001b[0m\u001b[0;34m\u001b[0m\u001b[0m\n\u001b[0;32m---> 28\u001b[0;31m \u001b[0mX\u001b[0m \u001b[0;34m=\u001b[0m \u001b[0mbp_age_marital\u001b[0m\u001b[0;34m[\u001b[0m\u001b[0;34m[\u001b[0m\u001b[0;34m'RIDAGEYR'\u001b[0m\u001b[0;34m,\u001b[0m \u001b[0;34m'Marital_Status'\u001b[0m\u001b[0;34m]\u001b[0m\u001b[0;34m]\u001b[0m\u001b[0;34m\u001b[0m\u001b[0;34m\u001b[0m\u001b[0m\n\u001b[0m\u001b[1;32m     29\u001b[0m \u001b[0mX\u001b[0m \u001b[0;34m=\u001b[0m \u001b[0mpd\u001b[0m\u001b[0;34m.\u001b[0m\u001b[0mget_dummies\u001b[0m\u001b[0;34m(\u001b[0m\u001b[0mX\u001b[0m\u001b[0;34m,\u001b[0m \u001b[0mdrop_first\u001b[0m\u001b[0;34m=\u001b[0m\u001b[0;32mTrue\u001b[0m\u001b[0;34m)\u001b[0m  \u001b[0;31m# Convert categorical variable to dummy/indicator variables\u001b[0m\u001b[0;34m\u001b[0m\u001b[0;34m\u001b[0m\u001b[0m\n\u001b[1;32m     30\u001b[0m \u001b[0mX\u001b[0m \u001b[0;34m=\u001b[0m \u001b[0msm\u001b[0m\u001b[0;34m.\u001b[0m\u001b[0madd_constant\u001b[0m\u001b[0;34m(\u001b[0m\u001b[0mX\u001b[0m\u001b[0;34m)\u001b[0m  \u001b[0;31m# Add an intercept term\u001b[0m\u001b[0;34m\u001b[0m\u001b[0;34m\u001b[0m\u001b[0m\n",
            "\u001b[0;31mNameError\u001b[0m: name 'bp_age_marital' is not defined"
          ]
        }
      ]
    },
    {
      "cell_type": "code",
      "source": [
        "# Question 4**: \"Is there a correlation between self-reported weight and minutes of sedentary behavior?\"\n",
        "     ## Variables: `WHD020` (self-reported weight, cleaned) and `PAD680` (sedentary behavior time, cleaned).\n",
        "\n",
        "\n",
        "from scipy.stats import pearsonr, spearmanr\n",
        "\n",
        "# Step 1: Extract columns and relevant data and merging data\n",
        "weight_sedentary = self_weight[['SEQN', 'WHD020']].copy()\n",
        "weight_sedentary = weight_sedentary.merge(sed[['SEQN', 'PAD680']], on='SEQN')\n",
        "\n",
        "# Step 2: More cleanning.Drop missing values in columns\n",
        "weight_sedentary.dropna(subset=['WHD020', 'PAD680'], inplace=True)\n",
        "\n",
        "# Step 3: Perform correlation analysis\n",
        "from scipy.stats import pearsonr\n",
        "\n",
        "# Step 4: Perform Pearson correlation\n",
        "corr, p_value = pearsonr(weight_sedentary['WHD020'], weight_sedentary['PAD680'])\n",
        "print(f\"Pearson Correlation Coefficient: {corr}, p-value: {p_value}\")\n",
        "\n",
        "# Step 5: Interpretation\n",
        "if p_value < 0.05:\n",
        "    print(\"There is a statistically significant correlation between self-reported weight and sedentary behavior time.\")\n",
        "else:\n",
        "    print(\"There is no statistically significant correlation between self-reported weight and sedentary behavior time.\")\n"
      ],
      "metadata": {
        "id": "cAqIaGlPgruu",
        "colab": {
          "base_uri": "https://localhost:8080/"
        },
        "outputId": "19059758-b1a6-4a5b-a43c-32adc3037740"
      },
      "execution_count": 18,
      "outputs": [
        {
          "output_type": "stream",
          "name": "stdout",
          "text": [
            "Pearson Correlation Coefficient: 0.1046820984735302, p-value: 2.9649694069971987e-21\n",
            "There is a statistically significant correlation between self-reported weight and sedentary behavior time.\n"
          ]
        }
      ]
    },
    {
      "cell_type": "code",
      "source": [
        "# Question 5 (Creative Analysis)**: Develop your own unique question using at least one of the variables listed above. Ensure that your question can be answered using one of the following tests: chi-square, t-test, ANOVA, or correlation. Clearly state your question, explain why you chose the test, and document your findings.\n",
        "\n",
        "# Question: Is there a correlation between age and minutes of sedentary behavior?\n",
        "\n",
        "# Merge datasets on SEQN (sequence number)\n",
        "merged_data = demo[['SEQN', 'RIDAGEYR']].merge(sed[['SEQN', 'PAD680']], on='SEQN', how='inner')\n",
        "\n",
        "# Drop missing values\n",
        "merged_data = merged_data.dropna(subset=['RIDAGEYR', 'PAD680'])\n",
        "\n",
        "# Perform the correlation test\n",
        "corr_stat, p_value = pearsonr(merged_data['RIDAGEYR'], merged_data['PAD680'])\n",
        "\n",
        "# Print results\n",
        "print(f\"Pearson Correlation Coefficient: {corr_stat:.4f}, p-value: {p_value:.4f}\")\n",
        "\n",
        "# Interpretation\n",
        "if p_value > 0.05:\n",
        "    print(\"No significant correlation between age and sedentary behavior time.\")\n",
        "else:\n",
        "  print(\"There is a significant correlation between age and sedentary behavior time.\")"
      ],
      "metadata": {
        "id": "_ukTOSqOgwVM",
        "colab": {
          "base_uri": "https://localhost:8080/"
        },
        "outputId": "c1fd208c-fec5-4ebe-b193-51e3da5748d3"
      },
      "execution_count": 20,
      "outputs": [
        {
          "output_type": "stream",
          "name": "stdout",
          "text": [
            "Pearson Correlation Coefficient: 0.0414, p-value: 0.0002\n",
            "There is a significant correlation between age and sedentary behavior time.\n"
          ]
        }
      ]
    }
  ]
}